{
 "metadata": {
  "name": "",
  "signature": "sha256:254d1c205d5fb3232d3bdccff0948c0fc0cd7306db8f133668a2eeb8e9ab59fe"
 },
 "nbformat": 3,
 "nbformat_minor": 0,
 "worksheets": [
  {
   "cells": [
    {
     "cell_type": "markdown",
     "metadata": {},
     "source": [
      "# Populate local MDCS instance with student data and metadata"
     ]
    },
    {
     "cell_type": "markdown",
     "metadata": {},
     "source": [
      "Import MDCS API tool module"
     ]
    },
    {
     "cell_type": "code",
     "collapsed": false,
     "input": [
      "import mdcs"
     ],
     "language": "python",
     "metadata": {},
     "outputs": []
    },
    {
     "cell_type": "markdown",
     "metadata": {},
     "source": [
      "Host and user information"
     ]
    },
    {
     "cell_type": "code",
     "collapsed": false,
     "input": [
      "user='admin'\n",
      "pswd='admin'\n",
      "host='http://127.0.0.1:8000'\n",
      "template_name='DemoDiffusion'"
     ],
     "language": "python",
     "metadata": {},
     "outputs": []
    },
    {
     "cell_type": "markdown",
     "metadata": {},
     "source": [
      "List of file prefixes for micrograph images and XML metadata"
     ]
    },
    {
     "cell_type": "code",
     "collapsed": false,
     "input": [
      "name_list=[\n",
      "    \"GE-DiffusionCouple-IN100-IN718\",\n",
      "    \"GE-DiffusionCouple-IN718-R95\",\n",
      "    \"GE-DiffusionCouple-R95-R88\"\n",
      "]"
     ],
     "language": "python",
     "metadata": {},
     "outputs": []
    },
    {
     "cell_type": "markdown",
     "metadata": {},
     "source": [
      "For each name in the list:\n",
      "\n",
      "* Upload micrograph\n",
      "* Read XML metadata\n",
      "* Replace generic URL with unique URL for micrograph\n",
      "* Upload XML metadata record"
     ]
    },
    {
     "cell_type": "code",
     "collapsed": false,
     "input": [
      "for name in name_list:\n",
      "    xml_name=name+\".xml\"\n",
      "    tif_name=name+\".tif\"\n",
      "    \n",
      "    print \"Uploading:\",tif_name\n",
      "    url = mdcs.blob.upload(tif_name,host,user,pswd)\n",
      "    \n",
      "    print \"Reading:\",xml_name\n",
      "    with open(xml_name, 'r') as f: \n",
      "        content = f.read()\n",
      "    content = content.replace(\"http://127.0.0.1:8000/rest/blob?id=REPLACE-ME-BLOB-ID\",url)\n",
      "    \n",
      "    print \"Uploading:\",xml_name\n",
      "    response = mdcs.curate_as(xml_name,name,host,user,pswd,template_title=template_name,content=content)\n",
      "    print \"Response:\",response"
     ],
     "language": "python",
     "metadata": {},
     "outputs": []
    },
    {
     "cell_type": "code",
     "collapsed": false,
     "input": [],
     "language": "python",
     "metadata": {},
     "outputs": []
    }
   ],
   "metadata": {}
  }
 ]
}