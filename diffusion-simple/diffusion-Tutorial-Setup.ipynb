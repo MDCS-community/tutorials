{
 "cells": [
  {
   "cell_type": "markdown",
   "metadata": {},
   "source": [
    "# Populate local MDCS instance with student data and metadata"
   ]
  },
  {
   "cell_type": "markdown",
   "metadata": {},
   "source": [
    "Import MDCS API tool module"
   ]
  },
  {
   "cell_type": "code",
   "execution_count": null,
   "metadata": {
    "collapsed": false
   },
   "outputs": [],
   "source": [
    "import mdcs"
   ]
  },
  {
   "cell_type": "markdown",
   "metadata": {},
   "source": [
    "Host and user information"
   ]
  },
  {
   "cell_type": "code",
   "execution_count": null,
   "metadata": {
    "collapsed": false
   },
   "outputs": [],
   "source": [
    "user='admin'\n",
    "pswd='admin'\n",
    "host='http://127.0.0.1:8000'\n",
    "template_name='DiffusionDemo'"
   ]
  },
  {
   "cell_type": "markdown",
   "metadata": {},
   "source": [
    "List of file prefixes for micrograph images and XML metadata"
   ]
  },
  {
   "cell_type": "code",
   "execution_count": null,
   "metadata": {
    "collapsed": false
   },
   "outputs": [],
   "source": [
    "name_list=[\n",
    "    \"GE-DiffusionCouple-IN100-IN718\",\n",
    "    \"GE-DiffusionCouple-IN718-R95\",\n",
    "    \"GE-DiffusionCouple-R95-R88\",\n",
    "    \"GE-DiffusionCouple-R88-IN100\"\n",
    "]"
   ]
  },
  {
   "cell_type": "markdown",
   "metadata": {},
   "source": [
    "For each name in the list:\n",
    "\n",
    "* Upload micrograph\n",
    "* Read XML metadata\n",
    "* Replace generic URL with unique URL for micrograph\n",
    "* Upload XML metadata record"
   ]
  },
  {
   "cell_type": "code",
   "execution_count": null,
   "metadata": {
    "collapsed": false
   },
   "outputs": [],
   "source": [
    "for name in name_list:\n",
    "    xml_name=name+\".xml\"\n",
    "    tif_name=name+\".tif\"\n",
    "    \n",
    "    print \"Uploading:\",tif_name\n",
    "    url = mdcs.blob.upload(tif_name,host,user,pswd)\n",
    "    \n",
    "    print \"Reading:\",xml_name\n",
    "    with open(xml_name, 'r') as f: \n",
    "        content = f.read()\n",
    "    content = content.replace(\"http://127.0.0.1:8000/rest/blob?id=REPLACE-ME-BLOB-ID\",url)\n",
    "    \n",
    "    print \"Uploading:\",xml_name\n",
    "    response = mdcs.curate_as(xml_name,name,host,user,pswd,template_title=template_name,content=content)\n",
    "    print \"Response:\",response"
   ]
  },
  {
   "cell_type": "code",
   "execution_count": null,
   "metadata": {
    "collapsed": false
   },
   "outputs": [],
   "source": []
  }
 ],
 "metadata": {
  "kernelspec": {
   "display_name": "Python 2",
   "language": "python",
   "name": "python2"
  },
  "language_info": {
   "codemirror_mode": {
    "name": "ipython",
    "version": 2
   },
   "file_extension": ".py",
   "mimetype": "text/x-python",
   "name": "python",
   "nbconvert_exporter": "python",
   "pygments_lexer": "ipython2",
   "version": "2.7.11"
  }
 },
 "nbformat": 4,
 "nbformat_minor": 0
}
